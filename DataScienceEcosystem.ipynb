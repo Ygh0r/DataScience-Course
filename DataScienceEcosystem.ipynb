{
 "cells": [
  {
   "cell_type": "markdown",
   "id": "73f9e3a4-5863-4694-9e66-ecbba0421785",
   "metadata": {},
   "source": [
    "# Data Science Tools and Ecosystem"
   ]
  },
  {
   "cell_type": "markdown",
   "id": "69de9d3a-c7e6-464c-8130-1bfa1b7af687",
   "metadata": {},
   "source": [
    "In this notebook, Data Science Tools and Ecosystem are summarized."
   ]
  },
  {
   "cell_type": "markdown",
   "id": "55b12165-b026-4b2f-a025-8e0b563d1a08",
   "metadata": {},
   "source": [
    "Some of the popular languages that Data Scientists use are:\n",
    "1. SQL\n",
    "2. Python\n",
    "3. R"
   ]
  },
  {
   "cell_type": "markdown",
   "id": "c45e32cb-d5ee-46e3-98de-a4d0612d0b9d",
   "metadata": {},
   "source": [
    "Some of the commonly used libraries used by Data Scientists include:\n",
    "1. Matplotlib\n",
    "2. Numpy\n",
    "3. Pandas"
   ]
  },
  {
   "cell_type": "markdown",
   "id": "0e9e0dba-fe4a-4630-bdda-fbb6f4e8d07a",
   "metadata": {},
   "source": [
    " |Data Science Tools |\n",
    "--------------------\n",
    "VisualStudio Code  \n",
    "Anaconda \n",
    "R Studio "
   ]
  },
  {
   "cell_type": "markdown",
   "id": "e696955e-522f-40bd-a888-08842110bbae",
   "metadata": {},
   "source": [
    "### Below are a few examples of evaluating arithmetic expressions in Python"
   ]
  },
  {
   "cell_type": "code",
   "execution_count": 3,
   "id": "676f923f-a8b5-465b-9108-d1e85f2c54c9",
   "metadata": {},
   "outputs": [
    {
     "data": {
      "text/plain": [
       "17"
      ]
     },
     "execution_count": 3,
     "metadata": {},
     "output_type": "execute_result"
    }
   ],
   "source": [
    "# This a simple arithmetic expression to mutiply\n",
    "(3*4)+5"
   ]
  },
  {
   "cell_type": "code",
   "execution_count": 6,
   "id": "bc690a24-0d67-483f-a0d5-9ca51514b219",
   "metadata": {},
   "outputs": [
    {
     "data": {
      "text/plain": [
       "3.3333333333333335"
      ]
     },
     "execution_count": 6,
     "metadata": {},
     "output_type": "execute_result"
    }
   ],
   "source": [
    "# This will convert 200 minutes to hours by diving by 60\n",
    "200 / 60"
   ]
  },
  {
   "cell_type": "markdown",
   "id": "76a4effc-9355-4fb1-b552-251b774165c6",
   "metadata": {},
   "source": [
    "**Objectives:**\n",
    "- Python\n",
    "- Pandas\n",
    "- SQL\n",
    "- Matplotlib"
   ]
  },
  {
   "cell_type": "markdown",
   "id": "e25b0261-f1b3-43fa-9580-8fc52eed2083",
   "metadata": {},
   "source": [
    "## Author\n",
    "Igor de Araújo Loureiro"
   ]
  },
  {
   "cell_type": "code",
   "execution_count": null,
   "id": "329ecf21-9e13-4526-a3c8-0705181f96ad",
   "metadata": {},
   "outputs": [],
   "source": []
  }
 ],
 "metadata": {
  "kernelspec": {
   "display_name": "Python 3 (ipykernel)",
   "language": "python",
   "name": "python3"
  },
  "language_info": {
   "codemirror_mode": {
    "name": "ipython",
    "version": 3
   },
   "file_extension": ".py",
   "mimetype": "text/x-python",
   "name": "python",
   "nbconvert_exporter": "python",
   "pygments_lexer": "ipython3",
   "version": "3.11.7"
  }
 },
 "nbformat": 4,
 "nbformat_minor": 5
}
